{
 "cells": [
  {
   "cell_type": "code",
   "id": "initial_id",
   "metadata": {
    "collapsed": true
   },
   "source": [
    "from langchain import hub\n",
    "\n",
    "print(\"hwchase17/openai-tools-agent\")\n",
    "prompt1 = hub.pull(\"hwchase17/openai-tools-agent\")\n",
    "prompt1.pretty_print()\n",
    "\n",
    "print(\"\\n\\n\")\n",
    "\n",
    "print(\"langchain-ai/openai-functions-template\")\n",
    "prompt2 = hub.pull(\"langchain-ai/openai-functions-template\")\n",
    "prompt2.pretty_print()\n"
   ],
   "outputs": [],
   "execution_count": null
  },
  {
   "metadata": {},
   "cell_type": "code",
   "source": "",
   "id": "3b71bdf6a0e988f7",
   "outputs": [],
   "execution_count": null
  }
 ],
 "metadata": {
  "kernelspec": {
   "display_name": "Python 3",
   "language": "python",
   "name": "python3"
  },
  "language_info": {
   "codemirror_mode": {
    "name": "ipython",
    "version": 2
   },
   "file_extension": ".py",
   "mimetype": "text/x-python",
   "name": "python",
   "nbconvert_exporter": "python",
   "pygments_lexer": "ipython2",
   "version": "2.7.6"
  }
 },
 "nbformat": 4,
 "nbformat_minor": 5
}
